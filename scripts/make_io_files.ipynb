{
 "cells": [
  {
   "cell_type": "code",
   "execution_count": 90,
   "metadata": {},
   "outputs": [],
   "source": [
    "import numpy as np\n",
    "n_angles = 25\n",
    "n_dists = 10\n",
    "r = 50\n",
    "angle_names = np.linspace(np.pi/2-.1, np.pi-.1, n_angles+1)\n",
    "angles = np.linspace(-np.pi/2, 0, n_angles+1)\n",
    "angle_names = angle_names[1:]\n",
    "angles = angles[1:]\n",
    "dists = np.linspace(0, n_dists, n_dists+1)\n",
    "#alphas\n",
    "#alphas\n",
    "#n_runs = 40\n",
    "#angles = np.linspace(0.1,np.pi/2-.1, n_runs)\n"
   ]
  },
  {
   "cell_type": "code",
   "execution_count": 91,
   "metadata": {},
   "outputs": [],
   "source": [
    "cm = open('copy_me.txt', 'w')\n",
    "for theta_name, theta in zip(angle_names, angles):\n",
    "    cm.write(\"[\")\n",
    "    for alpha in dists:\n",
    "        x = -r*np.cos(theta)\n",
    "        y = r*np.sin(theta)\n",
    "        yp = -(r+alpha)\n",
    "        f = open(\"io_fil_th_{0:.2f}\".format(theta_name) + \"_a_{0:02d}.yaml\".format(int(alpha)), 'w')\n",
    "        f.write('filament:\\n')\n",
    "        f.write('  - [[0, {}, 0], [0, 1, 0]]\\n'.format(yp))\n",
    "        f.write('  - [[{}, {}, 0], [{}, {}, 0]]\\n'.format(x, y, np.cos(theta), -np.sin(theta)))\n",
    "        f.close()\n",
    "        if alpha != dists[-1]:\n",
    "            cm.write(\"io_fil_th_{0:.2f}\".format(theta) + \"_a_{0:02d}.yaml, \".format(int(alpha)))\n",
    "        else:\n",
    "            cm.write(\"io_fil_th_{0:.2f}\".format(theta) + \"_a_{0:02d}.yaml]\\n\".format(int(alpha)))\n",
    "cm.close()\n",
    "# for i,j in enumerate(angles):\n",
    "#     f = open('io_fil_{0:02d}.yaml'.format(i), 'w')\n",
    "#     f.write('filament:\\n')\n",
    "#     f.write('  - [[-30, -60, 0], [{}, {}, 0]]\\n'.format(math.cos(j),math.sin(j)))\n",
    "#     f.write('  - [[30, -59.5, 0], [-{}, {}, 0]]\\n'.format(math.cos(j),math.sin(j)))\n",
    "#     f.close()"
   ]
  },
  {
   "cell_type": "code",
   "execution_count": 45,
   "metadata": {},
   "outputs": [],
   "source": [
    "import sys"
   ]
  },
  {
   "cell_type": "code",
   "execution_count": 48,
   "metadata": {},
   "outputs": [
    {
     "name": "stdout",
     "output_type": "stream",
     "text": [
      "[io_fil_th_1.60_a_00.yaml, io_fil_th_1.60_a_01.yaml, io_fil_th_1.60_a_02.yaml, io_fil_th_1.60_a_03.yaml, io_fil_th_1.60_a_04.yaml, io_fil_th_1.60_a_05.yaml, io_fil_th_1.60_a_06.yaml, io_fil_th_1.60_a_07.yaml, io_fil_th_1.60_a_08.yaml, io_fil_th_1.60_a_09.yaml, io_fil_th_1.60_a_10.yaml]\n",
      "\n"
     ]
    }
   ],
   "source": [
    "f = open('copy_me.txt', 'r')\n",
    "f.readline()\n",
    "print(f.readline())\n",
    "f.close()"
   ]
  },
  {
   "cell_type": "code",
   "execution_count": 64,
   "metadata": {},
   "outputs": [],
   "source": [
    "import os, glob\n",
    "from shutil import copyfile\n",
    "import re"
   ]
  },
  {
   "cell_type": "code",
   "execution_count": 60,
   "metadata": {},
   "outputs": [],
   "source": [
    "os.chdir(os.getcwd()+'/in_out_params')"
   ]
  },
  {
   "cell_type": "code",
   "execution_count": 62,
   "metadata": {},
   "outputs": [],
   "source": [
    "files = glob.glob(\"io_fil_set*params.yaml\")\n",
    "files.sort()"
   ]
  },
  {
   "cell_type": "code",
   "execution_count": 68,
   "metadata": {},
   "outputs": [
    {
     "name": "stdout",
     "output_type": "stream",
     "text": [
      "io_fil_set_25_params.yaml\n",
      "io_fil_set_26_params.yaml\n",
      "io_fil_set_27_params.yaml\n",
      "io_fil_set_28_params.yaml\n",
      "io_fil_set_29_params.yaml\n",
      "io_fil_set_30_params.yaml\n",
      "io_fil_set_31_params.yaml\n",
      "io_fil_set_32_params.yaml\n",
      "io_fil_set_33_params.yaml\n",
      "io_fil_set_34_params.yaml\n",
      "io_fil_set_35_params.yaml\n",
      "io_fil_set_36_params.yaml\n",
      "io_fil_set_37_params.yaml\n",
      "io_fil_set_38_params.yaml\n",
      "io_fil_set_39_params.yaml\n",
      "io_fil_set_40_params.yaml\n",
      "io_fil_set_41_params.yaml\n",
      "io_fil_set_42_params.yaml\n",
      "io_fil_set_43_params.yaml\n",
      "io_fil_set_44_params.yaml\n",
      "io_fil_set_45_params.yaml\n",
      "io_fil_set_46_params.yaml\n",
      "io_fil_set_47_params.yaml\n",
      "io_fil_set_48_params.yaml\n",
      "io_fil_set_49_params.yaml\n"
     ]
    }
   ],
   "source": [
    "new_files = []\n",
    "for i, file in enumerate(files):\n",
    "    new_file = re.sub(\"set_\\d+_\", \"set_{0:02d}_\".format(25+i), file)\n",
    "    print(new_file)\n",
    "    copyfile(file, new_file)\n",
    "    new_files.append(new_file)"
   ]
  },
  {
   "cell_type": "code",
   "execution_count": 75,
   "metadata": {},
   "outputs": [],
   "source": [
    "for i, (file, theta) in enumerate(zip(new_files, angles)):\n",
    "    f = open(file, 'r')\n",
    "    content = f.read()\n",
    "    f.close()\n",
    "    content = re.sub('_set_\\d+', '_set_{}'.format(25+i), content)\n",
    "    content = re.sub('_th_\\d.\\d+', '_th_{0:.2f}'.format(theta), content)\n",
    "    \n",
    "    f = open(file, 'w')\n",
    "    f.write(content)\n",
    "    f.close()"
   ]
  },
  {
   "cell_type": "code",
   "execution_count": 71,
   "metadata": {},
   "outputs": [
    {
     "name": "stdout",
     "output_type": "stream",
     "text": [
      "0 1 4\n",
      "1 2 5\n",
      "2 3 6\n"
     ]
    }
   ],
   "source": [
    "L = [1,2,3]\n",
    "K = [4,5,6]\n",
    "for i,(j,k) in enumerate(zip(L,K)):\n",
    "    print(i,j,k)"
   ]
  },
  {
   "cell_type": "code",
   "execution_count": null,
   "metadata": {},
   "outputs": [],
   "source": []
  }
 ],
 "metadata": {
  "kernelspec": {
   "display_name": "Python 3",
   "language": "python",
   "name": "python3"
  },
  "language_info": {
   "codemirror_mode": {
    "name": "ipython",
    "version": 3
   },
   "file_extension": ".py",
   "mimetype": "text/x-python",
   "name": "python",
   "nbconvert_exporter": "python",
   "pygments_lexer": "ipython3",
   "version": "3.7.1"
  }
 },
 "nbformat": 4,
 "nbformat_minor": 1
}
